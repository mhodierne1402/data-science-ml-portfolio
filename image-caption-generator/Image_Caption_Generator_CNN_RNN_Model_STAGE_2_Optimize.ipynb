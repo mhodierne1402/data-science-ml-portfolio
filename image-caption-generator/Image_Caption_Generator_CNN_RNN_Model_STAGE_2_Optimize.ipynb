{
  "nbformat": 4,
  "nbformat_minor": 0,
  "metadata": {
    "colab": {
      "provenance": [],
      "authorship_tag": "ABX9TyPB2VKraOCEFK1+0P5QheqZ",
      "include_colab_link": true
    },
    "kernelspec": {
      "name": "python3",
      "display_name": "Python 3"
    },
    "language_info": {
      "name": "python"
    }
  },
  "cells": [
    {
      "cell_type": "markdown",
      "metadata": {
        "id": "view-in-github",
        "colab_type": "text"
      },
      "source": [
        "<a href=\"https://colab.research.google.com/github/mhodierne1402/data-science-ml-portfolio/blob/main/image-caption-generator/Image_Caption_Generator_CNN_RNN_Model_STAGE_2_Optimize.ipynb\" target=\"_parent\"><img src=\"https://colab.research.google.com/assets/colab-badge.svg\" alt=\"Open In Colab\"/></a>"
      ]
    },
    {
      "cell_type": "markdown",
      "source": [
        "# **Image Caption Generator Project — CNN-RNN Model**\n",
        "### **STAGE 2 — Optimize CNN-RNN Model**\n",
        "\n",
        "Mark Hodierne, January 2023."
      ],
      "metadata": {
        "id": "DQ6nSia-pBwo"
      }
    },
    {
      "cell_type": "markdown",
      "source": [
        "---\n",
        "\n",
        "**Status Update: 24 January 2023**\n",
        "\n",
        "1. Starting soon, once baseline model is complete.\n",
        "\n",
        "---\n"
      ],
      "metadata": {
        "id": "H-wON1YV3OsF"
      }
    }
  ]
}