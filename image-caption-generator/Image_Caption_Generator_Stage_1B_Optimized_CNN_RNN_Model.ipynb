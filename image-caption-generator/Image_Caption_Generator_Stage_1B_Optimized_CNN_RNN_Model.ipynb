{
  "nbformat": 4,
  "nbformat_minor": 0,
  "metadata": {
    "colab": {
      "provenance": [],
      "authorship_tag": "ABX9TyMiJxJ9UMeddA9ByNbH50fC",
      "include_colab_link": true
    },
    "kernelspec": {
      "name": "python3",
      "display_name": "Python 3"
    },
    "language_info": {
      "name": "python"
    }
  },
  "cells": [
    {
      "cell_type": "markdown",
      "metadata": {
        "id": "view-in-github",
        "colab_type": "text"
      },
      "source": [
        "<a href=\"https://colab.research.google.com/github/mhodierne1402/data-science-ml-portfolio/blob/main/image-caption-generator/Image_Caption_Generator_Stage_1B_Optimized_CNN_RNN_Model.ipynb\" target=\"_parent\"><img src=\"https://colab.research.google.com/assets/colab-badge.svg\" alt=\"Open In Colab\"/></a>"
      ]
    },
    {
      "cell_type": "code",
      "execution_count": null,
      "metadata": {
        "id": "7VS8zTGcosSZ"
      },
      "outputs": [],
      "source": []
    },
    {
      "cell_type": "markdown",
      "source": [
        "#**Image Caption Generator Project**\n",
        "###**STAGE 1B: Optimized CNN-RNN Model**\n",
        "\n",
        "Mark Hodierne, January 2023.\n",
        "\n",
        "***"
      ],
      "metadata": {
        "id": "DQ6nSia-pBwo"
      }
    }
  ]
}