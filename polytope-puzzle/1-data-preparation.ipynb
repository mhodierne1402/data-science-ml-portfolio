{
 "cells": [
  {
   "cell_type": "markdown",
   "id": "41dd7ec8",
   "metadata": {
    "papermill": {
     "duration": 0.006275,
     "end_time": "2024-01-05T14:36:09.429025",
     "exception": false,
     "start_time": "2024-01-05T14:36:09.422750",
     "status": "completed"
    },
    "tags": []
   },
   "source": [
    "***\n",
    "# 1. Data Preparation\n",
    "Review the puzzle data for the 'cube' puzzle type. \n",
    "I started with a look at the puzzle_info.csv file.\n",
    "***"
   ]
  },
  {
   "cell_type": "code",
   "execution_count": 1,
   "id": "9442f5de",
   "metadata": {
    "_cell_guid": "b1076dfc-b9ad-4769-8c92-a6c4dae69d19",
    "_uuid": "8f2839f25d086af736a60e9eeb907d3b93b6e0e5",
    "execution": {
     "iopub.execute_input": "2024-01-05T14:36:09.443213Z",
     "iopub.status.busy": "2024-01-05T14:36:09.442406Z",
     "iopub.status.idle": "2024-01-05T14:36:09.897963Z",
     "shell.execute_reply": "2024-01-05T14:36:09.896839Z"
    },
    "papermill": {
     "duration": 0.465879,
     "end_time": "2024-01-05T14:36:09.900854",
     "exception": false,
     "start_time": "2024-01-05T14:36:09.434975",
     "status": "completed"
    },
    "tags": []
   },
   "outputs": [
    {
     "name": "stdout",
     "output_type": "stream",
     "text": [
      "/kaggle/input/santa-2023/sample_submission.csv\n",
      "/kaggle/input/santa-2023/puzzles.csv\n",
      "/kaggle/input/santa-2023/puzzle_info.csv\n"
     ]
    }
   ],
   "source": [
    "# This Python 3 environment comes with many helpful analytics libraries installed\n",
    "# It is defined by the kaggle/python Docker image: https://github.com/kaggle/docker-python\n",
    "# For example, here's several helpful packages to load\n",
    "\n",
    "import numpy as np # linear algebra\n",
    "import pandas as pd # data processing, CSV file I/O (e.g. pd.read_csv)\n",
    "import ast\n",
    "\n",
    "# Input data files are available in the read-only \"../input/\" directory\n",
    "# For example, running this (by clicking run or pressing Shift+Enter) will list all files under the input directory\n",
    "\n",
    "import os\n",
    "for dirname, _, filenames in os.walk('/kaggle/input'):\n",
    "    for filename in filenames:\n",
    "        print(os.path.join(dirname, filename))\n",
    "\n",
    "# You can write up to 20GB to the current directory (/kaggle/working/) that gets preserved as output when you create a version using \"Save & Run All\" \n",
    "# You can also write temporary files to /kaggle/temp/, but they won't be saved outside of the current session"
   ]
  },
  {
   "cell_type": "code",
   "execution_count": 2,
   "id": "19c8b6c3",
   "metadata": {
    "execution": {
     "iopub.execute_input": "2024-01-05T14:36:09.914432Z",
     "iopub.status.busy": "2024-01-05T14:36:09.913845Z",
     "iopub.status.idle": "2024-01-05T14:36:10.056117Z",
     "shell.execute_reply": "2024-01-05T14:36:10.055140Z"
    },
    "papermill": {
     "duration": 0.152663,
     "end_time": "2024-01-05T14:36:10.059113",
     "exception": false,
     "start_time": "2024-01-05T14:36:09.906450",
     "status": "completed"
    },
    "tags": []
   },
   "outputs": [
    {
     "name": "stdout",
     "output_type": "stream",
     "text": [
      "       puzzle_type                                      allowed_moves\n",
      "0       cube_2/2/2  {'f0': [0, 1, 19, 17, 6, 4, 7, 5, 2, 9, 3, 11,...\n",
      "1       cube_3/3/3  {'f0': [0, 1, 2, 3, 4, 5, 44, 41, 38, 15, 12, ...\n",
      "2       cube_4/4/4  {'f0': [0, 1, 2, 3, 4, 5, 6, 7, 8, 9, 10, 11, ...\n",
      "3       cube_5/5/5  {'f0': [0, 1, 2, 3, 4, 5, 6, 7, 8, 9, 10, 11, ...\n",
      "4       cube_6/6/6  {'f0': [0, 1, 2, 3, 4, 5, 6, 7, 8, 9, 10, 11, ...\n",
      "5       cube_7/7/7  {'f0': [0, 1, 2, 3, 4, 5, 6, 7, 8, 9, 10, 11, ...\n",
      "6       cube_8/8/8  {'f0': [0, 1, 2, 3, 4, 5, 6, 7, 8, 9, 10, 11, ...\n",
      "7       cube_9/9/9  {'f0': [0, 1, 2, 3, 4, 5, 6, 7, 8, 9, 10, 11, ...\n",
      "8    cube_10/10/10  {'f0': [0, 1, 2, 3, 4, 5, 6, 7, 8, 9, 10, 11, ...\n",
      "9    cube_19/19/19  {'f0': [0, 1, 2, 3, 4, 5, 6, 7, 8, 9, 10, 11, ...\n",
      "10   cube_33/33/33  {'f0': [0, 1, 2, 3, 4, 5, 6, 7, 8, 9, 10, 11, ...\n",
      "11      wreath_6/6  {'l': [1, 2, 3, 4, 5, 0, 6, 7, 8, 9], 'r': [6,...\n",
      "12      wreath_7/7  {'l': [1, 2, 3, 4, 5, 6, 0, 7, 8, 9, 10, 11], ...\n",
      "13    wreath_12/12  {'l': [1, 2, 3, 4, 5, 6, 7, 8, 9, 10, 11, 0, 1...\n",
      "14    wreath_21/21  {'l': [1, 2, 3, 4, 5, 6, 7, 8, 9, 10, 11, 12, ...\n",
      "15    wreath_33/33  {'l': [1, 2, 3, 4, 5, 6, 7, 8, 9, 10, 11, 12, ...\n",
      "16  wreath_100/100  {'l': [1, 2, 3, 4, 5, 6, 7, 8, 9, 10, 11, 12, ...\n",
      "17       globe_1/8  {'r0': [1, 2, 3, 4, 5, 6, 7, 8, 9, 10, 11, 12,...\n",
      "18      globe_1/16  {'r0': [1, 2, 3, 4, 5, 6, 7, 8, 9, 10, 11, 12,...\n",
      "19       globe_2/6  {'r0': [1, 2, 3, 4, 5, 6, 7, 8, 9, 10, 11, 0, ...\n",
      "20       globe_3/4  {'r0': [1, 2, 3, 4, 5, 6, 7, 0, 8, 9, 10, 11, ...\n",
      "21       globe_6/4  {'r0': [1, 2, 3, 4, 5, 6, 7, 0, 8, 9, 10, 11, ...\n",
      "22       globe_6/8  {'r0': [1, 2, 3, 4, 5, 6, 7, 8, 9, 10, 11, 12,...\n",
      "23      globe_6/10  {'r0': [1, 2, 3, 4, 5, 6, 7, 8, 9, 10, 11, 12,...\n",
      "24      globe_3/33  {'r0': [1, 2, 3, 4, 5, 6, 7, 8, 9, 10, 11, 12,...\n",
      "25      globe_8/25  {'r0': [1, 2, 3, 4, 5, 6, 7, 8, 9, 10, 11, 12,...\n",
      "{'f0': [0, 1, 19, 17, 6, 4, 7, 5, 2, 9, 3, 11, 12, 13, 14, 15, 16, 20, 18, 21, 10, 8, 22, 23], 'f1': [18, 16, 2, 3, 4, 5, 6, 7, 8, 0, 10, 1, 13, 15, 12, 14, 22, 17, 23, 19, 20, 21, 11, 9], 'r0': [0, 5, 2, 7, 4, 21, 6, 23, 10, 8, 11, 9, 3, 13, 1, 15, 16, 17, 18, 19, 20, 14, 22, 12], 'r1': [4, 1, 6, 3, 20, 5, 22, 7, 8, 9, 10, 11, 12, 2, 14, 0, 17, 19, 16, 18, 15, 21, 13, 23], 'd0': [0, 1, 2, 3, 4, 5, 18, 19, 8, 9, 6, 7, 12, 13, 10, 11, 16, 17, 14, 15, 22, 20, 23, 21], 'd1': [1, 3, 0, 2, 16, 17, 6, 7, 4, 5, 10, 11, 8, 9, 14, 15, 12, 13, 18, 19, 20, 21, 22, 23]}\n"
     ]
    }
   ],
   "source": [
    "puzzle_info = pd.read_csv('/kaggle/input/santa-2023/puzzle_info.csv')\n",
    "print(puzzle_info)\n",
    "\n",
    "# Inspect the allowed moves for the first puzzle type, cube_2/2/2\n",
    "print(puzzle_info['allowed_moves'][0])"
   ]
  },
  {
   "cell_type": "markdown",
   "id": "b111112f",
   "metadata": {
    "papermill": {
     "duration": 0.005493,
     "end_time": "2024-01-05T14:36:10.070641",
     "exception": false,
     "start_time": "2024-01-05T14:36:10.065148",
     "status": "completed"
    },
    "tags": []
   },
   "source": [
    "***\n",
    "There are 3 puzzle types, each of various dimensions.  \n",
    "The simplest is cube_2/2/2. There are 12 allowed moves: f0, f1, r0, r1, d0, d1, and their respective inverses.  \n",
    "Each of the allowed moves is described by an array containing some arrangement of 24 integers: 0 to 23.  \n",
    "  \n",
    "Next, I inspected the puzzles.csv, and specifically the data relating to the first puzzle, cube_2/2/2.\n",
    "***"
   ]
  },
  {
   "cell_type": "code",
   "execution_count": 3,
   "id": "0f232dec",
   "metadata": {
    "execution": {
     "iopub.execute_input": "2024-01-05T14:36:10.084897Z",
     "iopub.status.busy": "2024-01-05T14:36:10.084259Z",
     "iopub.status.idle": "2024-01-05T14:36:10.123962Z",
     "shell.execute_reply": "2024-01-05T14:36:10.123131Z"
    },
    "papermill": {
     "duration": 0.050067,
     "end_time": "2024-01-05T14:36:10.127102",
     "exception": false,
     "start_time": "2024-01-05T14:36:10.077035",
     "status": "completed"
    },
    "tags": []
   },
   "outputs": [
    {
     "name": "stdout",
     "output_type": "stream",
     "text": [
      "      id puzzle_type                                     solution_state  \\\n",
      "0      0  cube_2/2/2    A;A;A;A;B;B;B;B;C;C;C;C;D;D;D;D;E;E;E;E;F;F;F;F   \n",
      "1      1  cube_2/2/2    A;A;A;A;B;B;B;B;C;C;C;C;D;D;D;D;E;E;E;E;F;F;F;F   \n",
      "2      2  cube_2/2/2    A;A;A;A;B;B;B;B;C;C;C;C;D;D;D;D;E;E;E;E;F;F;F;F   \n",
      "3      3  cube_2/2/2    A;A;A;A;B;B;B;B;C;C;C;C;D;D;D;D;E;E;E;E;F;F;F;F   \n",
      "4      4  cube_2/2/2    A;A;A;A;B;B;B;B;C;C;C;C;D;D;D;D;E;E;E;E;F;F;F;F   \n",
      "..   ...         ...                                                ...   \n",
      "393  393  globe_3/33  A;A;A;A;A;A;C;C;C;C;C;C;E;E;E;E;E;E;G;G;G;G;G;...   \n",
      "394  394  globe_3/33  A;A;A;A;A;A;C;C;C;C;C;C;E;E;E;E;E;E;G;G;G;G;G;...   \n",
      "395  395  globe_3/33  N0;N1;N2;N3;N4;N5;N6;N7;N8;N9;N10;N11;N12;N13;...   \n",
      "396  396  globe_8/25  A;A;A;A;A;D;D;D;D;D;G;G;G;G;G;J;J;J;J;J;M;M;M;...   \n",
      "397  397  globe_8/25  A;A;A;A;A;D;D;D;D;D;G;G;G;G;G;J;J;J;J;J;M;M;M;...   \n",
      "\n",
      "                                         initial_state  num_wildcards  \n",
      "0      D;E;D;A;E;B;A;B;C;A;C;A;D;C;D;F;F;F;E;E;B;F;B;C              0  \n",
      "1      D;E;C;B;B;E;F;A;F;D;B;F;F;E;B;D;A;A;C;D;C;E;A;C              0  \n",
      "2      E;F;C;C;F;A;D;D;B;B;A;F;E;B;C;A;A;B;D;F;E;E;C;D              0  \n",
      "3      A;C;E;C;F;D;E;D;A;A;F;A;B;D;B;F;E;D;B;F;B;C;C;E              0  \n",
      "4      E;D;E;D;A;E;F;B;A;C;F;D;F;D;C;A;F;B;C;C;B;E;B;A              0  \n",
      "..                                                 ...            ...  \n",
      "393  D;D;L;A;P;E;R;U;U;C;S;R;J;B;E;G;O;J;F;Q;R;E;D;...              0  \n",
      "394  V;L;N;G;B;V;R;E;H;A;K;S;I;N;G;E;V;C;L;G;S;M;P;...              0  \n",
      "395  N12;N219;N227;N198;N4;N208;N214;N245;N56;N55;N...              0  \n",
      "396  V;P;F;L;P;X;O;A;J;b;V;Y;D;Y;C;X;J;F;U;G;d;L;b;...              0  \n",
      "397  V;O;a;I;a;F;C;D;C;d;I;O;U;F;F;G;L;I;Y;Y;X;X;a;...              0  \n",
      "\n",
      "[398 rows x 5 columns]\n",
      "    id puzzle_type                                     solution_state  \\\n",
      "0    0  cube_2/2/2    A;A;A;A;B;B;B;B;C;C;C;C;D;D;D;D;E;E;E;E;F;F;F;F   \n",
      "1    1  cube_2/2/2    A;A;A;A;B;B;B;B;C;C;C;C;D;D;D;D;E;E;E;E;F;F;F;F   \n",
      "2    2  cube_2/2/2    A;A;A;A;B;B;B;B;C;C;C;C;D;D;D;D;E;E;E;E;F;F;F;F   \n",
      "3    3  cube_2/2/2    A;A;A;A;B;B;B;B;C;C;C;C;D;D;D;D;E;E;E;E;F;F;F;F   \n",
      "4    4  cube_2/2/2    A;A;A;A;B;B;B;B;C;C;C;C;D;D;D;D;E;E;E;E;F;F;F;F   \n",
      "5    5  cube_2/2/2    A;A;A;A;B;B;B;B;C;C;C;C;D;D;D;D;E;E;E;E;F;F;F;F   \n",
      "6    6  cube_2/2/2    A;A;A;A;B;B;B;B;C;C;C;C;D;D;D;D;E;E;E;E;F;F;F;F   \n",
      "7    7  cube_2/2/2    A;A;A;A;B;B;B;B;C;C;C;C;D;D;D;D;E;E;E;E;F;F;F;F   \n",
      "8    8  cube_2/2/2    A;A;A;A;B;B;B;B;C;C;C;C;D;D;D;D;E;E;E;E;F;F;F;F   \n",
      "9    9  cube_2/2/2    A;A;A;A;B;B;B;B;C;C;C;C;D;D;D;D;E;E;E;E;F;F;F;F   \n",
      "10  10  cube_2/2/2    A;A;A;A;B;B;B;B;C;C;C;C;D;D;D;D;E;E;E;E;F;F;F;F   \n",
      "11  11  cube_2/2/2    A;A;A;A;B;B;B;B;C;C;C;C;D;D;D;D;E;E;E;E;F;F;F;F   \n",
      "12  12  cube_2/2/2    A;A;A;A;B;B;B;B;C;C;C;C;D;D;D;D;E;E;E;E;F;F;F;F   \n",
      "13  13  cube_2/2/2    A;A;A;A;B;B;B;B;C;C;C;C;D;D;D;D;E;E;E;E;F;F;F;F   \n",
      "14  14  cube_2/2/2    A;A;A;A;B;B;B;B;C;C;C;C;D;D;D;D;E;E;E;E;F;F;F;F   \n",
      "15  15  cube_2/2/2    A;A;A;A;B;B;B;B;C;C;C;C;D;D;D;D;E;E;E;E;F;F;F;F   \n",
      "16  16  cube_2/2/2    A;A;A;A;B;B;B;B;C;C;C;C;D;D;D;D;E;E;E;E;F;F;F;F   \n",
      "17  17  cube_2/2/2    A;A;A;A;B;B;B;B;C;C;C;C;D;D;D;D;E;E;E;E;F;F;F;F   \n",
      "18  18  cube_2/2/2    A;A;A;A;B;B;B;B;C;C;C;C;D;D;D;D;E;E;E;E;F;F;F;F   \n",
      "19  19  cube_2/2/2    A;A;A;A;B;B;B;B;C;C;C;C;D;D;D;D;E;E;E;E;F;F;F;F   \n",
      "20  20  cube_2/2/2  N0;N1;N2;N3;N4;N5;N6;N7;N8;N9;N10;N11;N12;N13;...   \n",
      "21  21  cube_2/2/2  N0;N1;N2;N3;N4;N5;N6;N7;N8;N9;N10;N11;N12;N13;...   \n",
      "22  22  cube_2/2/2  N0;N1;N2;N3;N4;N5;N6;N7;N8;N9;N10;N11;N12;N13;...   \n",
      "23  23  cube_2/2/2  N0;N1;N2;N3;N4;N5;N6;N7;N8;N9;N10;N11;N12;N13;...   \n",
      "24  24  cube_2/2/2  N0;N1;N2;N3;N4;N5;N6;N7;N8;N9;N10;N11;N12;N13;...   \n",
      "25  25  cube_2/2/2    A;B;A;B;B;C;B;C;C;D;C;D;D;E;D;E;E;F;E;F;F;A;F;A   \n",
      "26  26  cube_2/2/2    A;B;A;B;B;C;B;C;C;D;C;D;D;E;D;E;E;F;E;F;F;A;F;A   \n",
      "27  27  cube_2/2/2    A;B;A;B;B;C;B;C;C;D;C;D;D;E;D;E;E;F;E;F;F;A;F;A   \n",
      "28  28  cube_2/2/2    A;B;A;B;B;C;B;C;C;D;C;D;D;E;D;E;E;F;E;F;F;A;F;A   \n",
      "29  29  cube_2/2/2    A;B;A;B;B;C;B;C;C;D;C;D;D;E;D;E;E;F;E;F;F;A;F;A   \n",
      "\n",
      "                                        initial_state  num_wildcards  \n",
      "0     D;E;D;A;E;B;A;B;C;A;C;A;D;C;D;F;F;F;E;E;B;F;B;C              0  \n",
      "1     D;E;C;B;B;E;F;A;F;D;B;F;F;E;B;D;A;A;C;D;C;E;A;C              0  \n",
      "2     E;F;C;C;F;A;D;D;B;B;A;F;E;B;C;A;A;B;D;F;E;E;C;D              0  \n",
      "3     A;C;E;C;F;D;E;D;A;A;F;A;B;D;B;F;E;D;B;F;B;C;C;E              0  \n",
      "4     E;D;E;D;A;E;F;B;A;C;F;D;F;D;C;A;F;B;C;C;B;E;B;A              0  \n",
      "5     A;F;E;E;A;A;C;F;D;B;C;F;E;C;B;D;D;B;E;A;B;D;F;C              0  \n",
      "6     F;C;B;E;E;A;F;F;D;A;C;D;B;E;C;E;D;A;B;C;B;D;F;A              0  \n",
      "7     E;A;D;B;F;A;D;F;E;D;B;D;E;F;E;B;B;C;A;A;C;C;C;F              0  \n",
      "8     D;A;E;B;F;C;F;E;A;D;A;F;E;A;B;C;C;D;D;B;E;B;F;C              0  \n",
      "9     D;E;C;C;F;A;F;F;B;B;C;F;A;A;E;D;C;B;A;E;D;D;E;B              0  \n",
      "10    C;D;A;C;E;F;A;B;D;F;F;B;E;B;E;D;F;D;C;B;C;E;A;A              0  \n",
      "11    E;D;C;F;B;E;C;E;D;A;D;F;C;F;B;A;B;A;B;F;D;A;E;C              0  \n",
      "12    A;D;C;F;B;E;D;E;D;E;A;C;A;C;F;B;D;A;F;C;F;B;E;B              0  \n",
      "13    A;B;D;C;E;F;B;A;D;E;D;A;F;D;B;A;E;F;C;F;C;C;B;E              0  \n",
      "14    D;A;C;D;B;E;B;B;A;C;E;C;D;C;F;D;F;A;E;E;F;A;F;B              0  \n",
      "15    B;C;D;B;E;C;F;D;A;F;A;A;D;A;D;B;E;F;C;B;E;E;F;C              0  \n",
      "16    A;F;B;E;E;A;E;A;D;E;D;D;D;B;F;F;C;A;B;F;B;C;C;C              0  \n",
      "17    F;A;D;F;C;E;E;D;D;B;A;C;C;D;F;E;C;A;B;B;A;E;F;B              0  \n",
      "18    B;A;D;A;A;E;F;B;B;C;F;F;D;C;D;C;A;E;F;D;C;E;B;E              0  \n",
      "19    D;E;F;B;E;C;E;D;A;D;C;A;F;C;E;C;F;B;F;B;A;A;B;D              0  \n",
      "20  N22;N0;N1;N2;N12;N17;N20;N5;N4;N13;N3;N21;N16;...              0  \n",
      "21  N5;N7;N15;N13;N18;N16;N14;N4;N0;N21;N17;N9;N10...              0  \n",
      "22  N13;N8;N7;N14;N10;N11;N17;N22;N23;N3;N15;N12;N...              0  \n",
      "23  N20;N14;N9;N8;N1;N3;N4;N22;N5;N11;N15;N16;N23;...              0  \n",
      "24  N10;N0;N2;N14;N4;N11;N15;N3;N23;N13;N8;N9;N16;...              0  \n",
      "25    C;F;B;D;F;A;E;D;D;E;D;C;E;A;B;F;C;A;F;E;A;B;B;C              0  \n",
      "26    C;E;B;D;F;A;A;D;D;E;D;A;F;B;E;C;C;F;C;F;B;B;A;E              0  \n",
      "27    F;B;F;A;E;E;A;B;E;D;C;D;D;B;A;A;F;E;C;F;B;C;C;D              0  \n",
      "28    F;C;A;A;E;D;C;F;D;B;A;D;C;F;B;F;B;E;E;C;A;B;E;D              0  \n",
      "29    D;F;B;C;F;A;D;E;C;B;A;B;A;D;C;E;B;F;E;A;D;E;F;C              0  \n",
      "Puzzle1 Initial State: \n",
      " D;E;D;A;E;B;A;B;C;A;C;A;D;C;D;F;F;F;E;E;B;F;B;C\n",
      "Puzzle1 Solution State: \n",
      " A;A;A;A;B;B;B;B;C;C;C;C;D;D;D;D;E;E;E;E;F;F;F;F\n"
     ]
    }
   ],
   "source": [
    "puzzles = pd.read_csv('/kaggle/input/santa-2023/puzzles.csv')\n",
    "print(puzzles)\n",
    "print(puzzles[puzzles['puzzle_type'] == 'cube_2/2/2'])\n",
    "\n",
    "# Print the initial and solution states just for the first cube_2/2/2 puzzle\n",
    "initial_state_puzzle1 = puzzles.loc[puzzles['puzzle_type'] == 'cube_2/2/2', 'initial_state'].iloc[0]\n",
    "solution_state_puzzle1 = puzzles.loc[puzzles['puzzle_type'] == 'cube_2/2/2', 'solution_state'].iloc[0]\n",
    "print(\"Puzzle1 Initial State: \\n\", initial_state_puzzle1)\n",
    "print(\"Puzzle1 Solution State: \\n\", solution_state_puzzle1)"
   ]
  },
  {
   "cell_type": "markdown",
   "id": "3da8627d",
   "metadata": {
    "papermill": {
     "duration": 0.006061,
     "end_time": "2024-01-05T14:36:10.139018",
     "exception": false,
     "start_time": "2024-01-05T14:36:10.132957",
     "status": "completed"
    },
    "tags": []
   },
   "source": [
    "***\n",
    "There are 30 examples of the cube_2/2/2 puzzle. \n",
    "The first of these puzzles is:\n",
    "\n",
    "Initial State\n",
    "D;E;D;A;E;B;A;B;C;A;C;A;D;C;D;F;F;F;E;E;B;F;B;C\n",
    "Solution State\n",
    "A;A;A;A;B;B;B;B;C;C;C;C;D;D;D;D;E;E;E;E;F;F;F;F\n",
    "\n",
    "A 'move' describes the desired re-ordering of the array's contents.  \n",
    "As the data has come from a CSV file, the datatypes are str, which need to be converted to numpy arrays for efficient manipulation.  \n",
    "Here is code to perform such conversion and then a move using numpy.\n",
    "***"
   ]
  },
  {
   "cell_type": "code",
   "execution_count": 4,
   "id": "6a9caaf8",
   "metadata": {
    "execution": {
     "iopub.execute_input": "2024-01-05T14:36:10.153204Z",
     "iopub.status.busy": "2024-01-05T14:36:10.152390Z",
     "iopub.status.idle": "2024-01-05T14:36:10.161535Z",
     "shell.execute_reply": "2024-01-05T14:36:10.159943Z"
    },
    "papermill": {
     "duration": 0.019172,
     "end_time": "2024-01-05T14:36:10.164158",
     "exception": false,
     "start_time": "2024-01-05T14:36:10.144986",
     "status": "completed"
    },
    "tags": []
   },
   "outputs": [
    {
     "name": "stdout",
     "output_type": "stream",
     "text": [
      "['D' 'E' 'D' 'A' 'E' 'B' 'A' 'B' 'C' 'A' 'C' 'A' 'D' 'C' 'D' 'F' 'F' 'F'\n",
      " 'E' 'E' 'B' 'F' 'B' 'C']\n",
      "[ 0  1 19 17  6  4  7  5  2  9  3 11 12 13 14 15 16 20 18 21 10  8 22 23]\n",
      "['D' 'E' 'E' 'F' 'A' 'E' 'B' 'B' 'D' 'A' 'A' 'A' 'D' 'C' 'D' 'F' 'F' 'B'\n",
      " 'E' 'F' 'C' 'C' 'B' 'C']\n"
     ]
    }
   ],
   "source": [
    "# Convert the initial state from a string type into a numpy array\n",
    "puzzle_info_puzzle1 = np.array(initial_state_puzzle1.split(';'))\n",
    "print(puzzle_info_puzzle1)\n",
    "\n",
    "# Convert the allowed moves from a string type into a numpy array\n",
    "moves_puzzle1 = ast.literal_eval(puzzle_info['allowed_moves'][0])\n",
    "move_f0 = np.array(moves_puzzle1['f0'])\n",
    "print(move_f0)\n",
    "\n",
    "# Apply the move to the initial state to generate a resultant state\n",
    "next_state = puzzle_info_puzzle1[move_f0]\n",
    "print(next_state)\n"
   ]
  },
  {
   "cell_type": "markdown",
   "id": "8cf4c17f",
   "metadata": {
    "papermill": {
     "duration": 0.005954,
     "end_time": "2024-01-05T14:36:10.176229",
     "exception": false,
     "start_time": "2024-01-05T14:36:10.170275",
     "status": "completed"
    },
    "tags": []
   },
   "source": [
    "***\n",
    "The inverse of a move will essentially reverse it, so '-f0', when applied to next_state, will bring the array back to its initial state again.\n",
    "***"
   ]
  },
  {
   "cell_type": "code",
   "execution_count": 5,
   "id": "4618229b",
   "metadata": {
    "execution": {
     "iopub.execute_input": "2024-01-05T14:36:10.190832Z",
     "iopub.status.busy": "2024-01-05T14:36:10.190405Z",
     "iopub.status.idle": "2024-01-05T14:36:10.198868Z",
     "shell.execute_reply": "2024-01-05T14:36:10.197571Z"
    },
    "papermill": {
     "duration": 0.018714,
     "end_time": "2024-01-05T14:36:10.201509",
     "exception": false,
     "start_time": "2024-01-05T14:36:10.182795",
     "status": "completed"
    },
    "tags": []
   },
   "outputs": [
    {
     "name": "stdout",
     "output_type": "stream",
     "text": [
      "['D' 'E' 'D' 'A' 'E' 'B' 'A' 'B' 'C' 'A' 'C' 'A' 'D' 'C' 'D' 'F' 'F' 'F'\n",
      " 'E' 'E' 'B' 'F' 'B' 'C']\n",
      "Reverse successful\n"
     ]
    }
   ],
   "source": [
    "# Create an array to store the inverse move\n",
    "move_f0_inv = []\n",
    "\n",
    "# Reverse move_f0 to create its inverse and store in move_f0_inv array\n",
    "for i in range(len(puzzle_info_puzzle1)):\n",
    "    index = np.where(move_f0 == i)[0]\n",
    "    move_f0_inv.append(index[0].item())\n",
    "\n",
    "# Apply the inverse of move f0 to return next_state to its previous state\n",
    "reversed_state = next_state[move_f0_inv]\n",
    "print(reversed_state)\n",
    "\n",
    "# Test that the reversal has worked correctly\n",
    "if np.array_equal(puzzle_info_puzzle1, reversed_state):\n",
    "    print(\"Reverse successful\")\n"
   ]
  },
  {
   "cell_type": "markdown",
   "id": "691df801",
   "metadata": {
    "papermill": {
     "duration": 0.006032,
     "end_time": "2024-01-05T14:36:10.213994",
     "exception": false,
     "start_time": "2024-01-05T14:36:10.207962",
     "status": "completed"
    },
    "tags": []
   },
   "source": [
    "***\n",
    "Now I have a method to create all of the allowed moves and apply a move to a state.  \n",
    "I'm going to create a class that will create instances of the cube puzzle, and a class method that will enable a set of allowed moves.\n",
    "***"
   ]
  },
  {
   "cell_type": "code",
   "execution_count": 6,
   "id": "e074e2f8",
   "metadata": {
    "execution": {
     "iopub.execute_input": "2024-01-05T14:36:10.228805Z",
     "iopub.status.busy": "2024-01-05T14:36:10.228362Z",
     "iopub.status.idle": "2024-01-05T14:36:10.241457Z",
     "shell.execute_reply": "2024-01-05T14:36:10.240401Z"
    },
    "papermill": {
     "duration": 0.023586,
     "end_time": "2024-01-05T14:36:10.244002",
     "exception": false,
     "start_time": "2024-01-05T14:36:10.220416",
     "status": "completed"
    },
    "tags": []
   },
   "outputs": [],
   "source": [
    "# Define a class for each puzzle type and a class method to enable the allowed moves\n",
    "\n",
    "class AllowedMoves:\n",
    "    # Class variable to store the moves table\n",
    "    moves_table = {}\n",
    "    \n",
    "    # Load the allowed moves for a puzzle type into a table\n",
    "    @classmethod\n",
    "    def load_moves_table(cls, row):\n",
    "        allowed_moves_dict = ast.literal_eval(row['allowed_moves'])\n",
    "        \n",
    "        # Create all the inverse moves and load into the table\n",
    "        inverse_moves_dict = {}\n",
    "        for key, moves in allowed_moves_dict.items():\n",
    "            inverse_key = '-' + key\n",
    "            inverse_moves = [moves.index(i) for i in range(len(moves))]\n",
    "            inverse_moves_dict[inverse_key] = inverse_moves\n",
    "            \n",
    "        cls.moves_table[row['puzzle_type']] = {**allowed_moves_dict, **inverse_moves_dict}\n",
    "\n",
    "    # Return the allowed moves for a particular puzzle type from the moves table\n",
    "    @classmethod\n",
    "    def get_moves(cls, puzzle_type):\n",
    "        return cls.moves_table[puzzle_type]\n",
    "    \n",
    "    \n",
    "class CubePuzzle:\n",
    "    # Initialize an instance of a puzzle with its initial state, solution state, and allowed moves\n",
    "    def __init__(self, puzzle_type, initial_state, solution_state):\n",
    "        self.current_state = initial_state\n",
    "        self.solution_state = solution_state\n",
    "        self.allowed_moves = AllowedMoves.get_moves(puzzle_type)\n",
    "    \n",
    "    # Apply a specified move to the current state of the puzzle\n",
    "    def move(self, move):\n",
    "        if move in self.allowed_moves:\n",
    "            self.current_state = self.current_state[np.array(self.allowed_moves[move])]\n",
    "        else:\n",
    "            print(f\"Invalid move: {move}\")\n",
    "        \n",
    "        return self.current_state\n",
    "        \n",
    "  "
   ]
  },
  {
   "cell_type": "markdown",
   "id": "bfe6de28",
   "metadata": {
    "papermill": {
     "duration": 0.005743,
     "end_time": "2024-01-05T14:36:10.255741",
     "exception": false,
     "start_time": "2024-01-05T14:36:10.249998",
     "status": "completed"
    },
    "tags": []
   },
   "source": [
    "***\n",
    "Now I can test loading the moves table, which will take place at the start of the program.\n",
    "***"
   ]
  },
  {
   "cell_type": "code",
   "execution_count": 7,
   "id": "758aa766",
   "metadata": {
    "execution": {
     "iopub.execute_input": "2024-01-05T14:36:10.270217Z",
     "iopub.status.busy": "2024-01-05T14:36:10.269107Z",
     "iopub.status.idle": "2024-01-05T14:36:10.279863Z",
     "shell.execute_reply": "2024-01-05T14:36:10.278672Z"
    },
    "papermill": {
     "duration": 0.02081,
     "end_time": "2024-01-05T14:36:10.282559",
     "exception": false,
     "start_time": "2024-01-05T14:36:10.261749",
     "status": "completed"
    },
    "tags": []
   },
   "outputs": [
    {
     "name": "stdout",
     "output_type": "stream",
     "text": [
      "{'f0': [0, 1, 19, 17, 6, 4, 7, 5, 2, 9, 3, 11, 12, 13, 14, 15, 16, 20, 18, 21, 10, 8, 22, 23], 'f1': [18, 16, 2, 3, 4, 5, 6, 7, 8, 0, 10, 1, 13, 15, 12, 14, 22, 17, 23, 19, 20, 21, 11, 9], 'r0': [0, 5, 2, 7, 4, 21, 6, 23, 10, 8, 11, 9, 3, 13, 1, 15, 16, 17, 18, 19, 20, 14, 22, 12], 'r1': [4, 1, 6, 3, 20, 5, 22, 7, 8, 9, 10, 11, 12, 2, 14, 0, 17, 19, 16, 18, 15, 21, 13, 23], 'd0': [0, 1, 2, 3, 4, 5, 18, 19, 8, 9, 6, 7, 12, 13, 10, 11, 16, 17, 14, 15, 22, 20, 23, 21], 'd1': [1, 3, 0, 2, 16, 17, 6, 7, 4, 5, 10, 11, 8, 9, 14, 15, 12, 13, 18, 19, 20, 21, 22, 23], '-f0': [0, 1, 8, 10, 5, 7, 4, 6, 21, 9, 20, 11, 12, 13, 14, 15, 16, 3, 18, 2, 17, 19, 22, 23], '-f1': [9, 11, 2, 3, 4, 5, 6, 7, 8, 23, 10, 22, 14, 12, 15, 13, 1, 17, 0, 19, 20, 21, 16, 18], '-r0': [0, 14, 2, 12, 4, 1, 6, 3, 9, 11, 8, 10, 23, 13, 21, 15, 16, 17, 18, 19, 20, 5, 22, 7], '-r1': [15, 1, 13, 3, 0, 5, 2, 7, 8, 9, 10, 11, 12, 22, 14, 20, 18, 16, 19, 17, 4, 21, 6, 23], '-d0': [0, 1, 2, 3, 4, 5, 10, 11, 8, 9, 14, 15, 12, 13, 18, 19, 16, 17, 6, 7, 21, 23, 20, 22], '-d1': [2, 0, 3, 1, 8, 9, 6, 7, 12, 13, 10, 11, 16, 17, 14, 15, 4, 5, 18, 19, 20, 21, 22, 23]}\n"
     ]
    }
   ],
   "source": [
    "# Note, to reduce the time required to load the whole table, I have created a subset of rows to load instead\n",
    "start_row = 1\n",
    "end_row = 2\n",
    "puzzle_info_cubes = puzzle_info.iloc[start_row - 1:end_row]\n",
    "\n",
    "# Load puzzle_info into the allowed moves table one row at a time\n",
    "for index, row in puzzle_info_cubes.iterrows():\n",
    "    AllowedMoves.load_moves_table(row)\n",
    "    \n",
    "print(AllowedMoves.get_moves('cube_2/2/2'))\n"
   ]
  },
  {
   "cell_type": "code",
   "execution_count": 8,
   "id": "2feceaf4",
   "metadata": {
    "execution": {
     "iopub.execute_input": "2024-01-05T14:36:10.297064Z",
     "iopub.status.busy": "2024-01-05T14:36:10.296379Z",
     "iopub.status.idle": "2024-01-05T14:36:10.307887Z",
     "shell.execute_reply": "2024-01-05T14:36:10.306583Z"
    },
    "papermill": {
     "duration": 0.021979,
     "end_time": "2024-01-05T14:36:10.310740",
     "exception": false,
     "start_time": "2024-01-05T14:36:10.288761",
     "status": "completed"
    },
    "tags": []
   },
   "outputs": [
    {
     "name": "stdout",
     "output_type": "stream",
     "text": [
      "NOT SOLVED\n",
      "NOT SOLVED\n"
     ]
    }
   ],
   "source": [
    "# Main program control logic to solve each puzzle in turn - initially, I am only tackling the first 2 puzzles\n",
    "\n",
    "# for i in range(len(puzzles)):   - This is the code that runs on ALL puzzles to use later\n",
    "# The following code just runs on the first two puzzles\n",
    "\n",
    "for i in range(2):\n",
    "    # Extract the puzzle data from the puzzles dataframe, convert initial and solution states into numpy arrays\n",
    "    puzzle_type = puzzles.iloc[i]['puzzle_type']\n",
    "    initial_state = np.array(puzzles.iloc[i]['initial_state'].split(';'))\n",
    "    solution_state = np.array(puzzles.iloc[i]['solution_state'].split(';'))\n",
    "    \n",
    "    # Extract puzzle_class and execute the related code\n",
    "    puzzle_class, puzzle_dim = puzzle_type.split('_')\n",
    "    match puzzle_class:\n",
    "        case \"cube\":\n",
    "            puzzle = CubePuzzle(puzzle_type, initial_state, solution_state)\n",
    "            move = 'f0'\n",
    "            current_state = puzzle.move(move)\n",
    "            if np.array_equal(current_state, solution_state):\n",
    "                print(\"SOLVED\")\n",
    "            else:\n",
    "                print(\"NOT SOLVED\")            \n",
    "        case \"wreath\":\n",
    "            print(\"wreath\")\n",
    "        case \"globe\":\n",
    "            print(\"globe\")\n",
    "        case _:\n",
    "            print(f\"Puzzle id: {puzzle['id']} is not a valid puzzle type.\")\n"
   ]
  }
 ],
 "metadata": {
  "kaggle": {
   "accelerator": "none",
   "dataSources": [
    {
     "databundleVersionId": 7339171,
     "sourceId": 65704,
     "sourceType": "competition"
    }
   ],
   "dockerImageVersionId": 30626,
   "isGpuEnabled": false,
   "isInternetEnabled": true,
   "language": "python",
   "sourceType": "notebook"
  },
  "kernelspec": {
   "display_name": "Python 3",
   "language": "python",
   "name": "python3"
  },
  "language_info": {
   "codemirror_mode": {
    "name": "ipython",
    "version": 3
   },
   "file_extension": ".py",
   "mimetype": "text/x-python",
   "name": "python",
   "nbconvert_exporter": "python",
   "pygments_lexer": "ipython3",
   "version": "3.10.12"
  },
  "papermill": {
   "default_parameters": {},
   "duration": 5.028307,
   "end_time": "2024-01-05T14:36:10.838634",
   "environment_variables": {},
   "exception": null,
   "input_path": "__notebook__.ipynb",
   "output_path": "__notebook__.ipynb",
   "parameters": {},
   "start_time": "2024-01-05T14:36:05.810327",
   "version": "2.4.0"
  }
 },
 "nbformat": 4,
 "nbformat_minor": 5
}
