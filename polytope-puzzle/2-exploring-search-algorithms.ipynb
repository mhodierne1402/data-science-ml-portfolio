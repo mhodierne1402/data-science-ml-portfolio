{
 "cells": [
  {
   "cell_type": "markdown",
   "id": "a8027d0d",
   "metadata": {
    "papermill": {
     "duration": 0.002928,
     "end_time": "2024-01-05T17:37:53.738355",
     "exception": false,
     "start_time": "2024-01-05T17:37:53.735427",
     "status": "completed"
    },
    "tags": []
   },
   "source": [
    "***\n",
    "# 2. Exploring Search Algorithms\n",
    "\n",
    "This notebook details my explorations of algorithms that can solve the permutation puzzle.\n",
    "***\n"
   ]
  },
  {
   "cell_type": "code",
   "execution_count": 1,
   "id": "cf271f44",
   "metadata": {
    "_cell_guid": "b1076dfc-b9ad-4769-8c92-a6c4dae69d19",
    "_uuid": "8f2839f25d086af736a60e9eeb907d3b93b6e0e5",
    "execution": {
     "iopub.execute_input": "2024-01-05T17:37:53.745298Z",
     "iopub.status.busy": "2024-01-05T17:37:53.744905Z",
     "iopub.status.idle": "2024-01-05T17:37:54.120361Z",
     "shell.execute_reply": "2024-01-05T17:37:54.119347Z"
    },
    "papermill": {
     "duration": 0.382209,
     "end_time": "2024-01-05T17:37:54.123114",
     "exception": false,
     "start_time": "2024-01-05T17:37:53.740905",
     "status": "completed"
    },
    "tags": []
   },
   "outputs": [
    {
     "name": "stdout",
     "output_type": "stream",
     "text": [
      "/kaggle/input/santa-2023/sample_submission.csv\n",
      "/kaggle/input/santa-2023/puzzles.csv\n",
      "/kaggle/input/santa-2023/puzzle_info.csv\n"
     ]
    }
   ],
   "source": [
    "# This Python 3 environment comes with many helpful analytics libraries installed\n",
    "# It is defined by the kaggle/python Docker image: https://github.com/kaggle/docker-python\n",
    "# For example, here's several helpful packages to load\n",
    "\n",
    "import numpy as np # linear algebra\n",
    "import pandas\n",
    "import pandas as pd # data processing, CSV file I/O (e.g. pd.read_csv)\n",
    "\n",
    "# Input data files are available in the read-only \"../input/\" directory\n",
    "# For example, running this (by clicking run or pressing Shift+Enter) will list all files under the input directory\n",
    "\n",
    "import os\n",
    "for dirname, _, filenames in os.walk('/kaggle/input'):\n",
    "    for filename in filenames:\n",
    "        print(os.path.join(dirname, filename))\n",
    "\n",
    "# You can write up to 20GB to the current directory (/kaggle/working/) that gets preserved as output when you create a version using \"Save & Run All\" \n",
    "# You can also write temporary files to /kaggle/temp/, but they won't be saved outside of the current session"
   ]
  },
  {
   "cell_type": "code",
   "execution_count": 2,
   "id": "282ab5ab",
   "metadata": {
    "execution": {
     "iopub.execute_input": "2024-01-05T17:37:54.130725Z",
     "iopub.status.busy": "2024-01-05T17:37:54.129560Z",
     "iopub.status.idle": "2024-01-05T17:37:54.141531Z",
     "shell.execute_reply": "2024-01-05T17:37:54.140348Z"
    },
    "papermill": {
     "duration": 0.01802,
     "end_time": "2024-01-05T17:37:54.143817",
     "exception": false,
     "start_time": "2024-01-05T17:37:54.125797",
     "status": "completed"
    },
    "tags": []
   },
   "outputs": [],
   "source": [
    "import ast\n",
    "import random\n",
    "\n",
    "# Define a class for puzzles and a class method to create and access an allowed moves table\n",
    "\n",
    "class AllowedMoves:\n",
    "    moves_table = {}\n",
    "    \n",
    "    # Load the allowed moves for a puzzle type into a table\n",
    "    @classmethod\n",
    "    def load_moves_table(cls, puzzle_info):\n",
    "        \n",
    "        # Convert string representations to actual dictionaries\n",
    "        puzzle_info['allowed_moves'] = puzzle_info['allowed_moves'].apply(ast.literal_eval)\n",
    "        allowed_moves_dict = puzzle_info['allowed_moves'].to_dict()\n",
    "\n",
    "        # Create all the inverse moves and load into the table\n",
    "        inverse_moves_dict = {}\n",
    "        for puzzle_type, puzzle_moves in allowed_moves_dict.items():\n",
    "            inverse_moves = {}\n",
    "            for move_name, move_array in puzzle_moves.items():\n",
    "                inverse_moves[f\"-{move_name}\"] = np.argsort(move_array).tolist()\n",
    "            inverse_moves_dict[puzzle_type] = inverse_moves\n",
    "\n",
    "        # Create moves_table\n",
    "        cls.moves_table = {puzzle_type: {**allowed_moves_dict[puzzle_type], **inverse_moves_dict[puzzle_type]}\n",
    "            for puzzle_type in allowed_moves_dict}\n",
    "        \n",
    "    \n",
    "    # Return the allowed moves for a particular puzzle type from the moves table\n",
    "    @classmethod\n",
    "    def get_moves(cls, puzzle_type):\n",
    "        return cls.moves_table[puzzle_type]\n",
    "    \n",
    "\n",
    "class Puzzle:\n",
    "    # Initialize an instance of a puzzle type and its allowed moves\n",
    "    def __init__(self, puzzle):\n",
    "        self.puzzle = puzzle\n",
    "        self.id = self.puzzle.name\n",
    "        self.type = self.puzzle['puzzle_type']\n",
    "        self.initial_state = np.array(self.puzzle['initial_state'].split(';'))\n",
    "        self.solution_state = np.array(self.puzzle['solution_state'].split(';'))\n",
    "        self.puzzle_moves = AllowedMoves.get_moves(self.type)\n",
    "        self.allowed_moves = list(self.puzzle_moves.keys())\n",
    "    \n",
    "    # Apply a specified move to the current state of the puzzle\n",
    "    def move(self, state, move):\n",
    "        if move in self.puzzle_moves:\n",
    "            result_state = state[np.array(self.puzzle_moves[move])]\n",
    "        else:\n",
    "            print(f\"Invalid move: {move}\")\n",
    "            result_state = state\n",
    "        \n",
    "        return result_state\n"
   ]
  },
  {
   "cell_type": "markdown",
   "id": "3391a555",
   "metadata": {
    "papermill": {
     "duration": 0.003269,
     "end_time": "2024-01-05T17:37:54.149679",
     "exception": false,
     "start_time": "2024-01-05T17:37:54.146410",
     "status": "completed"
    },
    "tags": []
   },
   "source": [
    "***\n",
    "## Ideas about algorithms\n",
    "\n",
    "I began thinking about algorithms with a visit to Robert Sedgewick and Kevin Wayne's book \"Algorithms\". I confirmed my thoughts that a graph search algorithm would serve me well for this type of permutation puzzle. The initial and solution states would be vertices of the graph and the allowed moves would be the edges of the graph. Given an initial vertex and a solution vertex, I will need to find the shortest path between them, that is, the path with the fewest number of edges, or moves.  \n",
    "  \n",
    "I decided to start off by employing a basic Breadth First Search method. This is a 'brute-force' method that considers every possible permutation of moves until a valid solution is achieved.\n",
    "***"
   ]
  },
  {
   "cell_type": "code",
   "execution_count": 3,
   "id": "46ad9236",
   "metadata": {
    "execution": {
     "iopub.execute_input": "2024-01-05T17:37:54.156057Z",
     "iopub.status.busy": "2024-01-05T17:37:54.155689Z",
     "iopub.status.idle": "2024-01-05T17:37:58.080661Z",
     "shell.execute_reply": "2024-01-05T17:37:58.079220Z"
    },
    "papermill": {
     "duration": 3.930781,
     "end_time": "2024-01-05T17:37:58.082852",
     "exception": false,
     "start_time": "2024-01-05T17:37:54.152071",
     "status": "completed"
    },
    "tags": []
   },
   "outputs": [
    {
     "name": "stdout",
     "output_type": "stream",
     "text": [
      "Puzzle id_0: Solution found in 0.021597862243652344 seconds\n",
      "Solution path: ['r1', '-f1']\n",
      "\n",
      "Puzzle id_1: Solution not found\n",
      "Incomplete path: ['d1', 'f0', '-d1', 'd1']\n",
      "\n",
      "Final submission:\n",
      "     moves\n",
      "id        \n",
      "0   r1.-f1\n"
     ]
    }
   ],
   "source": [
    "from queue import Queue\n",
    "from time import time\n",
    "\n",
    "# Load data\n",
    "puzzle_info = pd.read_csv('/kaggle/input/santa-2023/puzzle_info.csv', index_col='puzzle_type')\n",
    "puzzles = pd.read_csv('/kaggle/input/santa-2023/puzzles.csv', index_col='id')\n",
    "sample_submission = pd.read_csv('/kaggle/input/santa-2023/sample_submission.csv', index_col='id')\n",
    "final_submission = pd.DataFrame(columns=['id', 'moves'])\n",
    "\n",
    "# Load puzzle_info into the allowed moves table\n",
    "AllowedMoves.load_moves_table(puzzle_info)\n",
    "\n",
    "\n",
    "# Main program control logic to solve each puzzle in turn - initially, I am only tackling the first two puzzles\n",
    "\n",
    "# for i in range(len(puzzles)):   - This is the code that runs on ALL puzzles to use later\n",
    "# The following code just runs on the first 2 puzzles\n",
    "\n",
    "for i in range(2):\n",
    "    # Start a timer for solving the puzzle\n",
    "    start_time = time()\n",
    "    \n",
    "    # Create puzzle object\n",
    "    puzzle = Puzzle(puzzles.iloc[i])  \n",
    "    \n",
    "    # Initialize the queue and tracking variables\n",
    "    q = Queue()\n",
    "    q.put((puzzle.initial_state, []))\n",
    "    visited = set()\n",
    "    random.shuffle(puzzle.allowed_moves)\n",
    "    depth = 3  # Using this constant to vary the maximum search depth of the algorithm\n",
    "    solution_found = False\n",
    "    \n",
    "    while not q.empty():\n",
    "        current_state, current_path = q.get()\n",
    "        if len(current_path) > depth:\n",
    "            break\n",
    "                \n",
    "        if np.array_equal(current_state, puzzle.solution_state):\n",
    "            solution_found = True\n",
    "            solution_path = '.'.join(current_path)\n",
    "                    \n",
    "            # Record the solution path for the puzzle\n",
    "            puzzle_solution = pd.DataFrame([{'id': puzzle.id, 'moves': solution_path}])\n",
    "            final_submission = pd.concat([final_submission, puzzle_solution])    \n",
    "            break\n",
    "\n",
    "        if tuple(current_state) in visited:\n",
    "            continue\n",
    "\n",
    "        visited.add(tuple(current_state))\n",
    "                \n",
    "        for move in puzzle.allowed_moves:\n",
    "            new_state = puzzle.move(current_state, move)\n",
    "            new_path = current_path + [move]\n",
    "            q.put((new_state, new_path))\n",
    "                    \n",
    "        random.shuffle(puzzle.allowed_moves)\n",
    "           \n",
    "    if not solution_found:\n",
    "        print(f\"Puzzle id_{puzzle.id}: Solution not found\")\n",
    "        print(f\"Incomplete path: {current_path}\\n\")\n",
    "    else:\n",
    "        # Stop the timer and print the time taken to solve the puzzle\n",
    "        end_time = time()\n",
    "        elapsed_time = end_time - start_time\n",
    "        print(f\"Puzzle id_{puzzle.id}: Solution found in {elapsed_time} seconds\")\n",
    "        print(f\"Solution path: {current_path}\\n\")\n",
    "\n",
    "# Check contents of the DataFrame the records the puzzle solutions found\n",
    "print(\"Final submission:\")\n",
    "print(final_submission.set_index('id'))"
   ]
  },
  {
   "cell_type": "markdown",
   "id": "def05735",
   "metadata": {
    "papermill": {
     "duration": 0.002519,
     "end_time": "2024-01-05T17:37:58.088190",
     "exception": false,
     "start_time": "2024-01-05T17:37:58.085671",
     "status": "completed"
    },
    "tags": []
   },
   "source": [
    "***\n",
    "The first puzzle turns out to be simple. The BFS algorithm finds the solution in 2 moves with an elapsed time of under a second. A little research into Rubrick's cube puzzles reveals that the God's number for a 2x2 cube is 11 - this number provides a worst-case upper bound on the shortest path length to the solution state. It quantifies the maximum complexity from any initial state. The second puzzle remained unsolved after trying all permutations of 8 consecutive moves in around 11 minutes.\n",
    "\n",
    "The elapsed time to solve the 2x2 cube puzzle increases exponentially with every additional required move as the search space increases: 12, 12^2, 12^3 etc. The brute-force method of Breadth First Search is impractical for any cube puzzle bar the simplest/smallest.\n",
    "\n",
    "As an alternative, I am going to try implementing the A* search algorithm. \n",
    "***"
   ]
  }
 ],
 "metadata": {
  "kaggle": {
   "accelerator": "none",
   "dataSources": [
    {
     "databundleVersionId": 7339171,
     "sourceId": 65704,
     "sourceType": "competition"
    }
   ],
   "dockerImageVersionId": 30626,
   "isGpuEnabled": false,
   "isInternetEnabled": true,
   "language": "python",
   "sourceType": "notebook"
  },
  "kernelspec": {
   "display_name": "Python 3",
   "language": "python",
   "name": "python3"
  },
  "language_info": {
   "codemirror_mode": {
    "name": "ipython",
    "version": 3
   },
   "file_extension": ".py",
   "mimetype": "text/x-python",
   "name": "python",
   "nbconvert_exporter": "python",
   "pygments_lexer": "ipython3",
   "version": "3.10.12"
  },
  "papermill": {
   "default_parameters": {},
   "duration": 7.878585,
   "end_time": "2024-01-05T17:37:58.610596",
   "environment_variables": {},
   "exception": null,
   "input_path": "__notebook__.ipynb",
   "output_path": "__notebook__.ipynb",
   "parameters": {},
   "start_time": "2024-01-05T17:37:50.732011",
   "version": "2.4.0"
  }
 },
 "nbformat": 4,
 "nbformat_minor": 5
}
