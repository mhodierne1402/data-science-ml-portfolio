{
 "cells": [
  {
   "cell_type": "markdown",
   "id": "3493dc1b",
   "metadata": {
    "papermill": {
     "duration": 0.00251,
     "end_time": "2024-01-05T14:33:04.874750",
     "exception": false,
     "start_time": "2024-01-05T14:33:04.872240",
     "status": "completed"
    },
    "tags": []
   },
   "source": [
    "***\n",
    "# The Polytope Permutation Puzzle - a Kaggle Competition\n",
    "**An exploration of traditional heuristic search methods.**\n",
    "\n",
    "- Probably well beyond my capabilities to solve this puzzle, but I'm using it as an opportunity to re-learn and apply graph search algorithms.\n",
    "- I will compare performance with other algorithms such as Breadth First Search, A* and IDA* search. I will learn about heuristic search and methods of optimization.\n",
    "\n",
    "### Summary of the Puzzle\n",
    "\n",
    "Each puzzle is prepresented by an array of values. For example, the cube_2/2/2 type puzzle requires an array of length 24 to represent each piece of the puzzle and its position. The method  to solve each puzzle is to start in a specified initial state and apply a sequence of allowed moves (or their inverses) in order to achieve a specified solution state. The goal is to identify the fewest possible moves required to reach the solution state from the initial state for every puzzle given. \n",
    "\n",
    "In some instances, a puzzle may have one or more 'wildcards' applied, where the arrangement of the puzzle is changed without a move. In these cases, a resultant solution may differ up to the number of wildcards and the sequence of moves would still be considered a valid solution. (I don't really understand how this part of the puzzle at the outset - I'll leave that for later!)\n",
    "\n",
    "### Approach\n",
    "\n",
    "This puzzle is my first ever Kaggle competition. I am using it as an opportunity to put my skills to work following an intensive period of Data Science/Machine Learning/AI learning. I intend to work from first principles as much as possible in order to maximise my learning opportunity. Once I have exhausted my own ideas and approaches, only then will I start to review the work of other competition entrants to understand how my own work could be further improved and developed.\n",
    "\n",
    "### First Thoughts\n",
    "\n",
    "Instantly, I can see this is a search problem.\n",
    "\n",
    "Initial Steps:\n",
    "Understand the simplest of the puzzles fully\n",
    "Select an appropriate data structure \n",
    "Select a simple search algorithm to begin with\n",
    "See if I can find a solution to the puzzle as my baseline\n",
    "Experiment with different parameters to optimise the solution\n",
    "\n",
    "Next Steps:\n",
    "Tackle a variation of the simplest puzzle that includes 'wildcards'\n",
    "Repeat with different algorithms and fine-tunings\n",
    "Repeat with each of the more complex puzzles\n",
    "Present comparisons of the relative performance of the different methods applied\n",
    "\n",
    "\n",
    "The following notebooks have been completed to undertake preparatory work needed to work on this puzzle:\n",
    "+ [1. Data Preparation](https://www.kaggle.com/code/markhodierne/1-data-preparation) - reviewing and manipulating the data ready for puzzle solving.\n",
    "+ [2. Exploring Search Algorithms](https://www.kaggle.com/code/markhodierne/2-exploring-search-algorithms) - trying out various algorithms on the data to find a suitable method.\n",
    "***\n",
    "### Latest Solution\n",
    "\n",
    "The code that will be added below is my current best solution to the permutation puzzle.\n",
    "***"
   ]
  },
  {
   "cell_type": "code",
   "execution_count": 1,
   "id": "d58a0467",
   "metadata": {
    "_cell_guid": "b1076dfc-b9ad-4769-8c92-a6c4dae69d19",
    "_uuid": "8f2839f25d086af736a60e9eeb907d3b93b6e0e5",
    "execution": {
     "iopub.execute_input": "2024-01-05T14:33:04.880334Z",
     "iopub.status.busy": "2024-01-05T14:33:04.879955Z",
     "iopub.status.idle": "2024-01-05T14:33:05.311799Z",
     "shell.execute_reply": "2024-01-05T14:33:05.310143Z"
    },
    "papermill": {
     "duration": 0.437619,
     "end_time": "2024-01-05T14:33:05.314460",
     "exception": false,
     "start_time": "2024-01-05T14:33:04.876841",
     "status": "completed"
    },
    "tags": []
   },
   "outputs": [
    {
     "name": "stdout",
     "output_type": "stream",
     "text": [
      "/kaggle/input/santa-2023/sample_submission.csv\n",
      "/kaggle/input/santa-2023/puzzles.csv\n",
      "/kaggle/input/santa-2023/puzzle_info.csv\n"
     ]
    }
   ],
   "source": [
    "# This Python 3 environment comes with many helpful analytics libraries installed\n",
    "# It is defined by the kaggle/python Docker image: https://github.com/kaggle/docker-python\n",
    "# For example, here's several helpful packages to load\n",
    "\n",
    "import numpy as np # linear algebra\n",
    "import pandas as pd # data processing, CSV file I/O (e.g. pd.read_csv)\n",
    "\n",
    "# Input data files are available in the read-only \"../input/\" directory\n",
    "# For example, running this (by clicking run or pressing Shift+Enter) will list all files under the input directory\n",
    "\n",
    "import os\n",
    "for dirname, _, filenames in os.walk('/kaggle/input'):\n",
    "    for filename in filenames:\n",
    "        print(os.path.join(dirname, filename))\n",
    "\n",
    "# You can write up to 20GB to the current directory (/kaggle/working/) that gets preserved as output when you create a version using \"Save & Run All\" \n",
    "# You can also write temporary files to /kaggle/temp/, but they won't be saved outside of the current session"
   ]
  }
 ],
 "metadata": {
  "kaggle": {
   "accelerator": "none",
   "dataSources": [
    {
     "databundleVersionId": 7339171,
     "sourceId": 65704,
     "sourceType": "competition"
    }
   ],
   "dockerImageVersionId": 30626,
   "isGpuEnabled": false,
   "isInternetEnabled": true,
   "language": "python",
   "sourceType": "notebook"
  },
  "kernelspec": {
   "display_name": "Python 3",
   "language": "python",
   "name": "python3"
  },
  "language_info": {
   "codemirror_mode": {
    "name": "ipython",
    "version": 3
   },
   "file_extension": ".py",
   "mimetype": "text/x-python",
   "name": "python",
   "nbconvert_exporter": "python",
   "pygments_lexer": "ipython3",
   "version": "3.10.12"
  },
  "papermill": {
   "default_parameters": {},
   "duration": 4.342079,
   "end_time": "2024-01-05T14:33:05.737182",
   "environment_variables": {},
   "exception": null,
   "input_path": "__notebook__.ipynb",
   "output_path": "__notebook__.ipynb",
   "parameters": {},
   "start_time": "2024-01-05T14:33:01.395103",
   "version": "2.4.0"
  }
 },
 "nbformat": 4,
 "nbformat_minor": 5
}
